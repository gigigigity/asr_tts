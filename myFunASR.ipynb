{
 "cells": [
  {
   "cell_type": "code",
   "execution_count": 1,
   "id": "29381e1f-d35d-4faf-9c7c-5138c70ae391",
   "metadata": {},
   "outputs": [
    {
     "name": "stderr",
     "output_type": "stream",
     "text": [
      "2024-06-20 09:38:37,953 - modelscope - INFO - PyTorch version 2.1.0+cu121 Found.\n",
      "2024-06-20 09:38:37,956 - modelscope - INFO - Loading ast index from /root/.cache/modelscope/ast_indexer\n",
      "2024-06-20 09:38:38,015 - modelscope - INFO - Loading done! Current index file version is 1.15.0, with md5 715eb9a299b7a35ace9ea0b8a493d9d0 and a total number of 980 components indexed\n"
     ]
    }
   ],
   "source": [
    "import os\n",
    "# print( os.getcwd())\n",
    "\n",
    "from modelscope.pipelines import pipeline\n",
    "from modelscope.utils.constant import Tasks\n",
    "# print( os.getcwd())"
   ]
  },
  {
   "cell_type": "code",
   "execution_count": 2,
   "id": "7a4b683c-9ff8-424c-88bf-065122c782eb",
   "metadata": {},
   "outputs": [
    {
     "name": "stderr",
     "output_type": "stream",
     "text": [
      "2024-06-20 09:38:39,804 - modelscope - INFO - Use user-specified model revision: v2.0.4\n",
      "2024-06-20 09:38:40,039 - modelscope - INFO - initiate model from /root/.cache/modelscope/hub/iic/speech_paraformer-large-vad-punc_asr_nat-zh-cn-16k-common-vocab8404-pytorch\n",
      "2024-06-20 09:38:40,041 - modelscope - INFO - initiate model from location /root/.cache/modelscope/hub/iic/speech_paraformer-large-vad-punc_asr_nat-zh-cn-16k-common-vocab8404-pytorch.\n",
      "2024-06-20 09:38:40,044 - modelscope - INFO - initialize model from /root/.cache/modelscope/hub/iic/speech_paraformer-large-vad-punc_asr_nat-zh-cn-16k-common-vocab8404-pytorch\n"
     ]
    },
    {
     "name": "stdout",
     "output_type": "stream",
     "text": [
      "Notice: ffmpeg is not installed. torchaudio is used to load audio\n",
      "If you want to use ffmpeg backend to load audio, please install it by:\n",
      "\tsudo apt install ffmpeg # ubuntu\n",
      "\t# brew install ffmpeg # mac\n",
      "ckpt: /root/.cache/modelscope/hub/iic/speech_paraformer-large-vad-punc_asr_nat-zh-cn-16k-common-vocab8404-pytorch/model.pt\n"
     ]
    },
    {
     "name": "stderr",
     "output_type": "stream",
     "text": [
      "2024-06-20 09:38:50,540 - modelscope - WARNING - Model revision not specified, use revision: v2.0.4\n"
     ]
    },
    {
     "name": "stdout",
     "output_type": "stream",
     "text": [
      "ckpt: /root/.cache/modelscope/hub/iic/speech_fsmn_vad_zh-cn-16k-common-pytorch/model.pt\n"
     ]
    },
    {
     "name": "stderr",
     "output_type": "stream",
     "text": [
      "2024-06-20 09:38:51,148 - modelscope - WARNING - Model revision not specified, use revision: v2.0.4\n",
      "Building prefix dict from the default dictionary ...\n",
      "DEBUG:jieba:Building prefix dict from the default dictionary ...\n",
      "Loading model from cache /tmp/jieba.cache\n",
      "DEBUG:jieba:Loading model from cache /tmp/jieba.cache\n",
      "Loading model cost 0.888 seconds.\n",
      "DEBUG:jieba:Loading model cost 0.888 seconds.\n",
      "Prefix dict has been built successfully.\n",
      "DEBUG:jieba:Prefix dict has been built successfully.\n"
     ]
    },
    {
     "name": "stdout",
     "output_type": "stream",
     "text": [
      "ckpt: /root/.cache/modelscope/hub/iic/punc_ct-transformer_cn-en-common-vocab471067-large/model.pt\n"
     ]
    },
    {
     "name": "stderr",
     "output_type": "stream",
     "text": [
      "2024-06-20 09:39:28,566 - modelscope - WARNING - No preprocessor field found in cfg.\n",
      "2024-06-20 09:39:28,568 - modelscope - WARNING - No val key and type key found in preprocessor domain of configuration.json file.\n",
      "2024-06-20 09:39:28,569 - modelscope - WARNING - Cannot find available config to build preprocessor at mode inference, current config: {'model_dir': '/root/.cache/modelscope/hub/iic/speech_paraformer-large-vad-punc_asr_nat-zh-cn-16k-common-vocab8404-pytorch'}. trying to build by task and model information.\n",
      "2024-06-20 09:39:28,570 - modelscope - WARNING - No preprocessor key ('funasr', 'auto-speech-recognition') found in PREPROCESSOR_MAP, skip building preprocessor.\n"
     ]
    }
   ],
   "source": [
    "inference_pipeline = pipeline(\n",
    "    task=Tasks.auto_speech_recognition,\n",
    "    model='iic/speech_paraformer-large-vad-punc_asr_nat-zh-cn-16k-common-vocab8404-pytorch',\n",
    "    model_revision=\"v2.0.4\")"
   ]
  },
  {
   "cell_type": "code",
   "execution_count": 3,
   "id": "800fe93f-3c6d-4829-bed5-cd9848051105",
   "metadata": {},
   "outputs": [
    {
     "name": "stderr",
     "output_type": "stream",
     "text": [
      "rtf_avg: 0.015: 100%|\u001b[34m██████████\u001b[0m| 1/1 [00:00<00:00,  5.00it/s]                                                                                          \n",
      "  0%|\u001b[31m          \u001b[0m| 0/1 [00:00<?, ?it/s]\n",
      "  0%|\u001b[34m          \u001b[0m| 0/3 [00:00<?, ?it/s]\u001b[A\n",
      " 33%|\u001b[34m███▎      \u001b[0m| 1/3 [00:00<00:01,  1.54it/s]\u001b[A\n",
      "{'load_data': '0.000', 'extract_feat': '0.016', 'forward': '0.649', 'batch_size': '3', 'rtf': '0.053'}, :  33%|\u001b[34m███▎      \u001b[0m| 1/3 [00:00<00:01,  1.54it/s]\u001b[A\n",
      "rtf_avg: 0.053:  33%|\u001b[34m███▎      \u001b[0m| 1/3 [00:00<00:01,  1.51it/s]                                                                                          \u001b[A\n",
      "\n",
      "  0%|\u001b[34m          \u001b[0m| 0/1 [00:00<?, ?it/s]\u001b[A\n",
      "{'load_data': 0.0, 'extract_feat': 0.0, 'forward': '0.039', 'batch_size': '1', 'rtf': '-0.039'}, : 100%|\u001b[34m██████████\u001b[0m| 1/1 [00:00<00:00, 24.54it/s]\u001b[A\n",
      "rtf_avg: -0.039: 100%|\u001b[34m██████████\u001b[0m| 1/1 [00:00<00:00, 21.92it/s]                                                                                  \u001b[A\n",
      "rtf_avg: 0.056, time_speech:  13.052, time_escape: 0.725: 100%|\u001b[31m██████████\u001b[0m| 1/1 [00:00<00:00,  1.37it/s]"
     ]
    },
    {
     "name": "stdout",
     "output_type": "stream",
     "text": [
      "[{'key': 'asr_example', 'text': '正是因为存在绝对正义，所以我们接受现实的相对正义。但是不要因为现实的相对正义，我们就认为这个世界没有正义。因为如果当你认为这个世界没有正义。', 'timestamp': [[430, 670], [670, 810], [810, 1030], [1030, 1130], [1130, 1330], [1330, 1510], [1510, 1670], [1670, 1810], [1810, 1970], [1970, 2210], [2270, 2390], [2390, 2490], [2490, 2570], [2570, 2710], [2710, 2950], [2970, 3210], [3310, 3550], [3570, 3730], [3730, 3830], [3830, 3970], [3970, 4150], [4150, 4270], [4270, 4535], [5290, 5470], [5470, 5610], [5610, 5710], [5710, 5910], [5910, 6070], [6070, 6230], [6230, 6470], [6470, 6650], [6650, 6750], [6750, 6950], [6950, 7130], [7130, 7250], [7250, 7490], [7490, 7590], [7590, 7710], [7710, 7910], [7910, 8070], [8070, 8290], [8290, 8430], [8430, 8550], [8550, 8710], [8710, 8950], [9050, 9290], [9370, 9550], [9550, 9790], [9790, 9965], [10600, 10760], [10760, 10900], [10900, 11120], [11120, 11300], [11300, 11400], [11400, 11580], [11580, 11700], [11700, 11800], [11800, 11920], [11920, 12020], [12020, 12160], [12160, 12320], [12320, 12440], [12440, 12560], [12560, 12740], [12740, 12915]]}]\n"
     ]
    },
    {
     "name": "stderr",
     "output_type": "stream",
     "text": [
      "\n"
     ]
    }
   ],
   "source": [
    "rec_result = inference_pipeline('FunASR/asr_example.wav')\n",
    "print(rec_result)"
   ]
  },
  {
   "cell_type": "code",
   "execution_count": 7,
   "id": "6f271787-79db-4130-88a1-9633e744e4cf",
   "metadata": {},
   "outputs": [
    {
     "data": {
      "text/plain": [
       "'正是因为存在绝对正义，所以我们接受现实的相对正义。但是不要因为现实的相对正义，我们就认为这个世界没有正义。因为如果当你认为这个世界没有正义。'"
      ]
     },
     "execution_count": 7,
     "metadata": {},
     "output_type": "execute_result"
    }
   ],
   "source": [
    "rec_result[0]['text']"
   ]
  },
  {
   "cell_type": "code",
   "execution_count": null,
   "id": "d30ffd42-e8c8-4892-a971-5a6febd53a47",
   "metadata": {},
   "outputs": [],
   "source": []
  }
 ],
 "metadata": {
  "kernelspec": {
   "display_name": "Python 3 (ipykernel)",
   "language": "python",
   "name": "python3"
  },
  "language_info": {
   "codemirror_mode": {
    "name": "ipython",
    "version": 3
   },
   "file_extension": ".py",
   "mimetype": "text/x-python",
   "name": "python",
   "nbconvert_exporter": "python",
   "pygments_lexer": "ipython3",
   "version": "3.10.8"
  }
 },
 "nbformat": 4,
 "nbformat_minor": 5
}
